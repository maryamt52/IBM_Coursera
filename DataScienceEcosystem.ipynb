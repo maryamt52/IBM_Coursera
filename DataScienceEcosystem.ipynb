{
 "cells": [
  {
   "cell_type": "code",
   "execution_count": null,
   "id": "7afba869-0eb8-4073-9c32-fd96ee79ce06",
   "metadata": {},
   "outputs": [],
   "source": []
  },
  {
   "cell_type": "markdown",
   "id": "640058db-3f50-4516-addf-162deab6ecfa",
   "metadata": {},
   "source": [
    "# Data Science Tools and Ecosystem"
   ]
  },
  {
   "cell_type": "markdown",
   "id": "9da9a46a-0681-4c46-b454-98f318913e98",
   "metadata": {},
   "source": [
    "In this notebook, Data Science Tools and Ecosystem are summarized."
   ]
  },
  {
   "cell_type": "markdown",
   "id": "4b44ee70-75d9-4455-983a-d6cd27af1c49",
   "metadata": {},
   "source": [
    "Objectives:\n",
    "- Popular languages for Data Science\n",
    "- Some of the commonly used libraries in Data Science\n",
    "- Arithmetic operations in Python\n",
    "- Convert time units in Python\n"
   ]
  },
  {
   "cell_type": "markdown",
   "id": "4d363c7d-3b53-4637-adcb-2dd9e5aba276",
   "metadata": {},
   "source": [
    "Some of the popular languages that Data Scientists use are:\n",
    "\n",
    "1. Python\n",
    "2. R\n",
    "3. SQL\n",
    "4. Julia"
   ]
  },
  {
   "cell_type": "markdown",
   "id": "90ffc10f-0318-4fbe-a5f7-2144623dbb15",
   "metadata": {},
   "source": [
    "Some of the commonly used libraries used by Data Scientists include:\n",
    "\n",
    "1. NumPy\n",
    "2. Pandas\n",
    "3. Keras\n",
    "4. PyTorch"
   ]
  },
  {
   "cell_type": "markdown",
   "id": "28f2fe67-8c06-4f64-9365-53ed133467d5",
   "metadata": {},
   "source": [
    "| Data Science Tools |\n",
    "|--------------------|\n",
    "| Jupyter Notebook   |\n",
    "| RStudio            |\n",
    "| Visual Studio Code (VS Code)   |"
   ]
  },
  {
   "cell_type": "markdown",
   "id": "85e97124-3372-492d-aa71-5afabcd2b7ee",
   "metadata": {},
   "source": [
    "### Below are a few examples of evaluating arithmetic expressions in Python."
   ]
  },
  {
   "cell_type": "markdown",
   "id": "fc098168-de19-49fd-b9cd-3a6aaee27be8",
   "metadata": {},
   "source": [
    "Addition: 8 + 2 results in 10\n",
    "Subtraction: 8 - 2 results in 6\n",
    "Multiplication: 8 * 2 results in 16\n",
    "Division: 8 / 2 results in 4"
   ]
  },
  {
   "cell_type": "markdown",
   "id": "859d2656-70aa-4c13-9e78-04f5eae5d5c5",
   "metadata": {},
   "source": [
    "This a simple arithmetic expression to multiply then add integers:\n",
    "\n",
    "(3*4)+5"
   ]
  },
  {
   "cell_type": "code",
   "execution_count": 27,
   "id": "55cd2293-8b12-4d13-b45b-0bfc1cec7ae0",
   "metadata": {},
   "outputs": [
    {
     "data": {
      "text/plain": [
       "17"
      ]
     },
     "execution_count": 27,
     "metadata": {},
     "output_type": "execute_result"
    }
   ],
   "source": [
    "(3*4)+5"
   ]
  },
  {
   "cell_type": "markdown",
   "id": "61129072-3e94-4c8c-a9ce-cd0f4df26735",
   "metadata": {},
   "source": [
    "This will convert 200 minutes to hours by dividing by 60:"
   ]
  },
  {
   "cell_type": "code",
   "execution_count": 31,
   "id": "541d3ecf-e231-4726-b559-49974f50ae9f",
   "metadata": {},
   "outputs": [
    {
     "data": {
      "text/plain": [
       "3.3333333333333335"
      ]
     },
     "execution_count": 31,
     "metadata": {},
     "output_type": "execute_result"
    }
   ],
   "source": [
    "minutes = 200\n",
    "hours = minutes / 60\n",
    "hours"
   ]
  },
  {
   "cell_type": "markdown",
   "id": "e8207a30-1156-43be-9130-6eca9b323b12",
   "metadata": {},
   "source": [
    "## Author\n",
    "Maryam Tabatabaei"
   ]
  },
  {
   "cell_type": "code",
   "execution_count": null,
   "id": "b42470f4-952a-4159-a322-f48d6713b9f7",
   "metadata": {},
   "outputs": [],
   "source": []
  }
 ],
 "metadata": {
  "kernelspec": {
   "display_name": "Python 3 (ipykernel)",
   "language": "python",
   "name": "python3"
  },
  "language_info": {
   "codemirror_mode": {
    "name": "ipython",
    "version": 3
   },
   "file_extension": ".py",
   "mimetype": "text/x-python",
   "name": "python",
   "nbconvert_exporter": "python",
   "pygments_lexer": "ipython3",
   "version": "3.12.4"
  }
 },
 "nbformat": 4,
 "nbformat_minor": 5
}
